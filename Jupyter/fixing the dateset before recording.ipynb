{
 "cells": [
  {
   "cell_type": "code",
   "execution_count": 1,
   "metadata": {},
   "outputs": [],
   "source": [
    "# This program should get the data from a excel files and extract the specific Data\n",
    "import pandas as pd\n",
    "import numpy as np\n",
    "import glob as glb"
   ]
  },
  {
   "cell_type": "code",
   "execution_count": 193,
   "metadata": {},
   "outputs": [],
   "source": [
    "def remove_repeated_data(data):\n",
    "    \n",
    "    new = np.unique(data, axis=1)\n",
    "        \n",
    "    return new"
   ]
  },
  {
   "cell_type": "code",
   "execution_count": 191,
   "metadata": {},
   "outputs": [
    {
     "name": "stdout",
     "output_type": "stream",
     "text": [
      "Hi, {name}\n",
      "Date Collection of \"Receiver Name\" is finished\n",
      "Date Collection of \"Phone Number\" is finished\n",
      "Date Collection of \"Area\" is finished\n",
      "Date Collection of \"State\" is finished\n",
      "Date Collection of \"Zip Code\" is finished\n"
     ]
    }
   ],
   "source": [
    "def print_hi(name):\n",
    "\n",
    "    print('Hi, {name}')  # Press Ctrl+F8 to toggle the breakpoint.\n",
    "\n",
    "\n",
    "\n",
    "    \n",
    "\n",
    "\n",
    "if __name__ == '__main__':\n",
    "    print_hi('Welcome to the Ecommerce Data extractor')\n",
    "\n",
    "\n",
    "# Creating the list of headers\n",
    "list_interest = ['Receiver Name', 'Phone Number', 'Area', 'State', 'Zip Code']\n",
    "remover = True\n",
    "\n",
    "\n",
    "info = []\n",
    "for header in list_interest:\n",
    "    sub_info = []\n",
    "\n",
    "# Here we are taking the file names in the directory including the address\n",
    "    for item in glb.glob(\"G:\\Google\\Electronic Design\\python_projects\\Insight of Ecommerce Data/2020\\*\"):\n",
    "        data = pd.read_excel(item,\n",
    "                             sheet_name=\"orders\",\n",
    "                             header=None,\n",
    "                             index_col=None)\n",
    "        data_np = data.to_numpy()\n",
    "        loc = np.argwhere(data_np == header)\n",
    "        loc2 = loc[0]\n",
    "        # Y is the number of ROWs and X is the number of columns\n",
    "        [y, x] = data_np.shape\n",
    "        # Collect and add the relevant data from the excel file.\n",
    "        sub_info.extend(data_np[1:y, loc2[1]])\n",
    "    # Forming the main data which has a few arrays equal to number of members in List_interest\n",
    "    print('Date Collection of \"{}\" is finished'.format(header))\n",
    "    info.append(sub_info)"
   ]
  },
  {
   "cell_type": "code",
   "execution_count": 194,
   "metadata": {},
   "outputs": [
    {
     "name": "stdout",
     "output_type": "stream",
     "text": [
      " Process is finished\n"
     ]
    }
   ],
   "source": [
    "# to remove all repeated data and sort the data\n",
    "if remover:\n",
    "    info = remove_repeated_data(info)\n",
    "    \n",
    "    \n",
    "# Here we will combine two data and create a dictionary to be saved in Excel file\n",
    "dic = dict(zip(list_interest, info))\n",
    "\n",
    "# Change the Numpy format to Pandas format to save in Excel file\n",
    "panda_dic = pd.DataFrame(dic)\n",
    "writer = pd.ExcelWriter('Extracted_Data.xlsx', engine='xlsxwriter')\n",
    "panda_dic.to_excel(writer, 'Data')\n",
    "writer.save()\n",
    "\n",
    "\n",
    "\n",
    "print(' Process is finished')\n"
   ]
  },
  {
   "cell_type": "code",
   "execution_count": null,
   "metadata": {},
   "outputs": [],
   "source": []
  }
 ],
 "metadata": {
  "kernelspec": {
   "display_name": "Python 3",
   "language": "python",
   "name": "python3"
  },
  "language_info": {
   "codemirror_mode": {
    "name": "ipython",
    "version": 3
   },
   "file_extension": ".py",
   "mimetype": "text/x-python",
   "name": "python",
   "nbconvert_exporter": "python",
   "pygments_lexer": "ipython3",
   "version": "3.7.7"
  }
 },
 "nbformat": 4,
 "nbformat_minor": 4
}
