{
 "cells": [
  {
   "cell_type": "code",
   "execution_count": 1,
   "metadata": {},
   "outputs": [],
   "source": [
    "# This program should get the data from a excel files and extract the specific Data\n",
    "import pandas as pd\n",
    "import numpy as np\n",
    "import glob as glb\n"
   ]
  },
  {
   "cell_type": "markdown",
   "metadata": {},
   "source": [
    "To get the Header data in we should put the header as None"
   ]
  },
  {
   "cell_type": "code",
   "execution_count": 2,
   "metadata": {},
   "outputs": [],
   "source": [
    "data = pd.read_excel(\"G:\\Google\\Electronic Design\\python_projects\\Insight of Ecommerce Data/2020\\sep.xls\",\n",
    "                    sheet_name= \"orders\",\n",
    "                    header = None,\n",
    "                    index_col= None)\n",
    "data_np = data.to_numpy()"
   ]
  },
  {
   "cell_type": "code",
   "execution_count": 3,
   "metadata": {},
   "outputs": [],
   "source": [
    "list_interest=['Receiver Name','Phone Number', 'Area', 'State', 'Zip Code']"
   ]
  },
  {
   "cell_type": "code",
   "execution_count": 4,
   "metadata": {},
   "outputs": [
    {
     "name": "stdout",
     "output_type": "stream",
     "text": [
      "[[ 0 42]]\n",
      "[[ 0 43]]\n",
      "[[ 0 47]]\n",
      "[[ 0 48]]\n",
      "[[ 0 50]]\n"
     ]
    },
    {
     "data": {
      "text/plain": [
       "list"
      ]
     },
     "execution_count": 4,
     "metadata": {},
     "output_type": "execute_result"
    }
   ],
   "source": [
    "loc2 = []\n",
    "for i in list_interest:\n",
    "    loc = np.argwhere(data_np == i)\n",
    "    print(loc)\n",
    "    loc2.append(loc[0])\n",
    "type(loc2)"
   ]
  },
  {
   "cell_type": "code",
   "execution_count": 8,
   "metadata": {},
   "outputs": [
    {
     "data": {
      "text/plain": [
       "['G:\\\\Google\\\\Electronic Design\\\\python_projects\\\\Insight of Ecommerce Data/2020\\\\Apr.xls',\n",
       " 'G:\\\\Google\\\\Electronic Design\\\\python_projects\\\\Insight of Ecommerce Data/2020\\\\Aug.xls',\n",
       " 'G:\\\\Google\\\\Electronic Design\\\\python_projects\\\\Insight of Ecommerce Data/2020\\\\Jul.xls',\n",
       " 'G:\\\\Google\\\\Electronic Design\\\\python_projects\\\\Insight of Ecommerce Data/2020\\\\Jun.xls',\n",
       " 'G:\\\\Google\\\\Electronic Design\\\\python_projects\\\\Insight of Ecommerce Data/2020\\\\Mar.xls',\n",
       " 'G:\\\\Google\\\\Electronic Design\\\\python_projects\\\\Insight of Ecommerce Data/2020\\\\May.xls',\n",
       " 'G:\\\\Google\\\\Electronic Design\\\\python_projects\\\\Insight of Ecommerce Data/2020\\\\Oct.xls',\n",
       " 'G:\\\\Google\\\\Electronic Design\\\\python_projects\\\\Insight of Ecommerce Data/2020\\\\Sep.xls']"
      ]
     },
     "execution_count": 8,
     "metadata": {},
     "output_type": "execute_result"
    }
   ],
   "source": [
    "glb.glob('G:\\Google\\Electronic Design\\python_projects\\Insight of Ecommerce Data/2020\\*')"
   ]
  },
  {
   "cell_type": "markdown",
   "metadata": {},
   "source": [
    "Y is the number of ROWs and X is the number of culomns "
   ]
  },
  {
   "cell_type": "code",
   "execution_count": 5,
   "metadata": {},
   "outputs": [
    {
     "name": "stdout",
     "output_type": "stream",
     "text": [
      " Row = 327, COL = 54\n"
     ]
    }
   ],
   "source": [
    "[y, x] = data_np.shape\n",
    "print(' Row = {}, COL = {}'.format(y,x))"
   ]
  },
  {
   "cell_type": "markdown",
   "metadata": {},
   "source": [
    "Collect the relevent data from the database."
   ]
  },
  {
   "cell_type": "code",
   "execution_count": 6,
   "metadata": {},
   "outputs": [],
   "source": [
    "info = []\n",
    "for i in loc2:\n",
    "    info.append(data_np[1:y, i[1]])"
   ]
  },
  {
   "cell_type": "markdown",
   "metadata": {},
   "source": [
    "Here we will combine two datas and create a dictionary to be saved in Excel file"
   ]
  },
  {
   "cell_type": "code",
   "execution_count": 7,
   "metadata": {},
   "outputs": [],
   "source": [
    "dic = dict(zip(list_interest, info))\n",
    "panda_dic = pd.DataFrame(dic)"
   ]
  },
  {
   "cell_type": "code",
   "execution_count": 128,
   "metadata": {},
   "outputs": [],
   "source": [
    "writer = pd.ExcelWriter('Extracted_Data.xlsx', engine='xlsxwriter')"
   ]
  },
  {
   "cell_type": "code",
   "execution_count": 129,
   "metadata": {},
   "outputs": [],
   "source": [
    "panda_dic.to_excel(writer, 'Sheet1')\n",
    "writer.save()"
   ]
  },
  {
   "cell_type": "code",
   "execution_count": 67,
   "metadata": {},
   "outputs": [
    {
     "name": "stdout",
     "output_type": "stream",
     "text": [
      "found one\n",
      "location is (182,0)\n"
     ]
    }
   ],
   "source": [
    "f = False\n",
    "for i in range(0,326):\n",
    "    for j in range(0,54):\n",
    "        if data_np[i,j] == \"2009170BKTP73A\":\n",
    "            print(\"found one\")\n",
    "            print(\"location is ({},{})\".format(i, j))\n",
    "            f = True\n",
    "if f == False:\n",
    "    print(\"There is no sign of titles\")"
   ]
  },
  {
   "cell_type": "code",
   "execution_count": 68,
   "metadata": {},
   "outputs": [
    {
     "name": "stdout",
     "output_type": "stream",
     "text": [
      "We found the data\n"
     ]
    }
   ],
   "source": [
    "if \"Order ID\" in data_np:\n",
    "    print(\"We found the data\")"
   ]
  },
  {
   "cell_type": "code",
   "execution_count": 69,
   "metadata": {},
   "outputs": [
    {
     "name": "stdout",
     "output_type": "stream",
     "text": [
      "[(182, 0)]\n"
     ]
    }
   ],
   "source": [
    "x, y = np.where(data_np == \"2009170BKTP73A\")\n",
    "loc = list(zip(x, y))\n",
    "print(loc)"
   ]
  },
  {
   "cell_type": "code",
   "execution_count": 70,
   "metadata": {},
   "outputs": [
    {
     "name": "stdout",
     "output_type": "stream",
     "text": [
      "[[0 0]]\n"
     ]
    }
   ],
   "source": [
    "loc = np.argwhere(data_np == \"Order ID\")\n",
    "print(loc)"
   ]
  },
  {
   "cell_type": "code",
   "execution_count": 83,
   "metadata": {},
   "outputs": [
    {
     "data": {
      "text/plain": [
       "'Zip Code'"
      ]
     },
     "execution_count": 83,
     "metadata": {},
     "output_type": "execute_result"
    }
   ],
   "source": [
    "data_np[0,50]"
   ]
  },
  {
   "cell_type": "code",
   "execution_count": 42,
   "metadata": {},
   "outputs": [
    {
     "data": {
      "text/plain": [
       "181"
      ]
     },
     "execution_count": 42,
     "metadata": {},
     "output_type": "execute_result"
    }
   ],
   "source": [
    "dic = dict(i in list_interest, )"
   ]
  },
  {
   "cell_type": "code",
   "execution_count": null,
   "metadata": {},
   "outputs": [],
   "source": []
  }
 ],
 "metadata": {
  "kernelspec": {
   "display_name": "Python 3",
   "language": "python",
   "name": "python3"
  },
  "language_info": {
   "codemirror_mode": {
    "name": "ipython",
    "version": 3
   },
   "file_extension": ".py",
   "mimetype": "text/x-python",
   "name": "python",
   "nbconvert_exporter": "python",
   "pygments_lexer": "ipython3",
   "version": "3.7.7"
  }
 },
 "nbformat": 4,
 "nbformat_minor": 4
}
